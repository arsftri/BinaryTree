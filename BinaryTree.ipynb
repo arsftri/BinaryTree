{
 "cells": [
  {
   "cell_type": "code",
   "execution_count": 1,
   "id": "9b50cb03",
   "metadata": {},
   "outputs": [],
   "source": [
    "class _BinTreeNode:\n",
    "    def __init__(self,data):\n",
    "        self.data=data\n",
    "        self.left=None\n",
    "        self.right=None"
   ]
  },
  {
   "cell_type": "code",
   "execution_count": 2,
   "id": "b09385e7",
   "metadata": {},
   "outputs": [],
   "source": [
    "A=_BinTreeNode('a')"
   ]
  },
  {
   "cell_type": "code",
   "execution_count": 3,
   "id": "23f04e4b",
   "metadata": {},
   "outputs": [],
   "source": [
    "B=_BinTreeNode('b')\n",
    "C=_BinTreeNode('c')"
   ]
  },
  {
   "cell_type": "code",
   "execution_count": 4,
   "id": "a80f774d",
   "metadata": {},
   "outputs": [],
   "source": [
    "A.left=B"
   ]
  },
  {
   "cell_type": "code",
   "execution_count": 5,
   "id": "eb85460e",
   "metadata": {},
   "outputs": [],
   "source": [
    "A.right=C"
   ]
  },
  {
   "cell_type": "code",
   "execution_count": 6,
   "id": "e5baf11d",
   "metadata": {},
   "outputs": [
    {
     "name": "stdout",
     "output_type": "stream",
     "text": [
      "<__main__._BinTreeNode object at 0x000001FF29786E80>\n"
     ]
    }
   ],
   "source": [
    "print(A)"
   ]
  },
  {
   "cell_type": "code",
   "execution_count": 7,
   "id": "b20024bd",
   "metadata": {},
   "outputs": [
    {
     "name": "stdout",
     "output_type": "stream",
     "text": [
      "a\n"
     ]
    }
   ],
   "source": [
    "print(A.data)"
   ]
  },
  {
   "cell_type": "code",
   "execution_count": 8,
   "id": "946a961e",
   "metadata": {},
   "outputs": [
    {
     "name": "stdout",
     "output_type": "stream",
     "text": [
      "b\n"
     ]
    }
   ],
   "source": [
    "print(A.left.data)"
   ]
  },
  {
   "cell_type": "code",
   "execution_count": 9,
   "id": "f74316a6",
   "metadata": {},
   "outputs": [
    {
     "name": "stdout",
     "output_type": "stream",
     "text": [
      "c\n"
     ]
    }
   ],
   "source": [
    "print(A.right.data)"
   ]
  },
  {
   "cell_type": "code",
   "execution_count": 15,
   "id": "45680652",
   "metadata": {},
   "outputs": [],
   "source": [
    "D=_BinTreeNode('d')\n",
    "B.left=D"
   ]
  },
  {
   "cell_type": "code",
   "execution_count": 16,
   "id": "811e009f",
   "metadata": {},
   "outputs": [
    {
     "data": {
      "text/plain": [
       "'d'"
      ]
     },
     "execution_count": 16,
     "metadata": {},
     "output_type": "execute_result"
    }
   ],
   "source": [
    "A.left.left.data"
   ]
  },
  {
   "cell_type": "code",
   "execution_count": 17,
   "id": "7b93e078",
   "metadata": {},
   "outputs": [],
   "source": [
    "E=_BinTreeNode('e')\n",
    "F=_BinTreeNode('f')\n",
    "G=_BinTreeNode('g')\n",
    "H=_BinTreeNode('h')\n",
    "I=_BinTreeNode('i')\n",
    "J=_BinTreeNode('j')"
   ]
  },
  {
   "cell_type": "code",
   "execution_count": 18,
   "id": "035da978",
   "metadata": {},
   "outputs": [],
   "source": [
    "B.right=E\n",
    "E.left=H\n",
    "C.left=F\n",
    "C.right=G\n",
    "G.left=I\n",
    "G.right=J"
   ]
  },
  {
   "cell_type": "code",
   "execution_count": 19,
   "id": "ba257446",
   "metadata": {},
   "outputs": [],
   "source": [
    "def preorderTrav(subtree):\n",
    "    if subtree is not None:\n",
    "        print(subtree.data)\n",
    "        preorderTrav(subtree.left)\n",
    "        preorderTrav(subtree.right)"
   ]
  },
  {
   "cell_type": "code",
   "execution_count": 20,
   "id": "0577854e",
   "metadata": {},
   "outputs": [
    {
     "name": "stdout",
     "output_type": "stream",
     "text": [
      "a\n",
      "b\n",
      "d\n",
      "e\n",
      "h\n",
      "c\n",
      "f\n",
      "g\n",
      "i\n",
      "j\n"
     ]
    }
   ],
   "source": [
    "preorderTrav(A)"
   ]
  },
  {
   "cell_type": "code",
   "execution_count": 23,
   "id": "e6e97770",
   "metadata": {},
   "outputs": [],
   "source": [
    "def inorderTrav(subtree):\n",
    "    if subtree is not None:\n",
    "        inorderTrav(subtree.left)\n",
    "        print(subtree.data)\n",
    "        inorderTrav(subtree.right)"
   ]
  },
  {
   "cell_type": "code",
   "execution_count": 24,
   "id": "b2ed03c2",
   "metadata": {},
   "outputs": [
    {
     "name": "stdout",
     "output_type": "stream",
     "text": [
      "d\n",
      "b\n",
      "h\n",
      "e\n",
      "a\n",
      "f\n",
      "c\n",
      "i\n",
      "g\n",
      "j\n"
     ]
    }
   ],
   "source": [
    "inorderTrav(A)"
   ]
  },
  {
   "cell_type": "code",
   "execution_count": 25,
   "id": "f8b81134",
   "metadata": {},
   "outputs": [],
   "source": [
    "def postorderTrav(subtree):\n",
    "    if subtree is not None:\n",
    "        postorderTrav(subtree.left)\n",
    "        postorderTrav(subtree.right)\n",
    "        print(subtree.data)"
   ]
  },
  {
   "cell_type": "code",
   "execution_count": 26,
   "id": "249e603c",
   "metadata": {},
   "outputs": [
    {
     "name": "stdout",
     "output_type": "stream",
     "text": [
      "d\n",
      "h\n",
      "e\n",
      "b\n",
      "f\n",
      "i\n",
      "j\n",
      "g\n",
      "c\n",
      "a\n"
     ]
    }
   ],
   "source": [
    "postorderTrav(A)"
   ]
  },
  {
   "cell_type": "code",
   "execution_count": null,
   "id": "60f34e6b",
   "metadata": {},
   "outputs": [],
   "source": [
    "39, 78, 17 83, 9, 52, 41, 14, 60, 2, 4, 23, 19"
   ]
  },
  {
   "cell_type": "code",
   "execution_count": null,
   "id": "680e99ce",
   "metadata": {},
   "outputs": [],
   "source": [
    "39, 17,9,83,41,52,78,60,4,19,23,2,14"
   ]
  }
 ],
 "metadata": {
  "kernelspec": {
   "display_name": "Python 3 (ipykernel)",
   "language": "python",
   "name": "python3"
  },
  "language_info": {
   "codemirror_mode": {
    "name": "ipython",
    "version": 3
   },
   "file_extension": ".py",
   "mimetype": "text/x-python",
   "name": "python",
   "nbconvert_exporter": "python",
   "pygments_lexer": "ipython3",
   "version": "3.9.12"
  }
 },
 "nbformat": 4,
 "nbformat_minor": 5
}
